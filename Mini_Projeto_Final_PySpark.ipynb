{
  "nbformat": 4,
  "nbformat_minor": 0,
  "metadata": {
    "colab": {
      "name": "Mini Projeto Final PySpark",
      "provenance": [],
      "collapsed_sections": []
    },
    "kernelspec": {
      "name": "python3",
      "display_name": "Python 3"
    },
    "language_info": {
      "name": "python"
    }
  },
  "cells": [
    {
      "cell_type": "markdown",
      "metadata": {
        "id": "cjETmxN4Jk5v"
      },
      "source": [
        "#**Instalando a biblioteca PySpark**\n",
        "\n",
        "Obs: Toda vez que for trabalhar com o PySpark no Colab tem que fazer a instalação do PySpark"
      ]
    },
    {
      "cell_type": "code",
      "metadata": {
        "colab": {
          "base_uri": "https://localhost:8080/"
        },
        "id": "v239yQOXIfWq",
        "outputId": "64dbd4c2-178b-4e2c-e47e-743d00d7a494"
      },
      "source": [
        "pip install pyspark"
      ],
      "execution_count": 1,
      "outputs": [
        {
          "output_type": "stream",
          "name": "stdout",
          "text": [
            "Collecting pyspark\n",
            "  Downloading pyspark-3.2.0.tar.gz (281.3 MB)\n",
            "\u001b[K     |████████████████████████████████| 281.3 MB 36 kB/s \n",
            "\u001b[?25hCollecting py4j==0.10.9.2\n",
            "  Downloading py4j-0.10.9.2-py2.py3-none-any.whl (198 kB)\n",
            "\u001b[K     |████████████████████████████████| 198 kB 50.1 MB/s \n",
            "\u001b[?25hBuilding wheels for collected packages: pyspark\n",
            "  Building wheel for pyspark (setup.py) ... \u001b[?25l\u001b[?25hdone\n",
            "  Created wheel for pyspark: filename=pyspark-3.2.0-py2.py3-none-any.whl size=281805912 sha256=70bf1b457cc00e8f7db0722cde682ec13af8d0b35c195ec19d5f1fdcb71bd547\n",
            "  Stored in directory: /root/.cache/pip/wheels/0b/de/d2/9be5d59d7331c6c2a7c1b6d1a4f463ce107332b1ecd4e80718\n",
            "Successfully built pyspark\n",
            "Installing collected packages: py4j, pyspark\n",
            "Successfully installed py4j-0.10.9.2 pyspark-3.2.0\n"
          ]
        }
      ]
    },
    {
      "cell_type": "markdown",
      "metadata": {
        "id": "Lnm6V8zFKM5k"
      },
      "source": [
        "#**Importando Bibliotecas**"
      ]
    },
    {
      "cell_type": "code",
      "metadata": {
        "id": "cRMRH02SJ67C"
      },
      "source": [
        "from pyspark.sql import SparkSession\n",
        "import pyspark.sql.functions as F\n",
        "from pyspark.sql.types import StructType, StructField, StringType, IntegerType, DateType, DoubleType\n",
        "from pyspark.sql.window import Window"
      ],
      "execution_count": 2,
      "outputs": []
    },
    {
      "cell_type": "markdown",
      "metadata": {
        "id": "VmC3S49JKV_8"
      },
      "source": [
        "#**Configurando a SparkSession**"
      ]
    },
    {
      "cell_type": "code",
      "metadata": {
        "colab": {
          "base_uri": "https://localhost:8080/",
          "height": 213
        },
        "id": "iHwQuCpHKTaP",
        "outputId": "42b6977f-6d9b-4864-fcb6-48306b155684"
      },
      "source": [
        "spark = (SparkSession.builder\\\n",
        "        .master(\"local\")\\\n",
        "        .appName(\"mini_projeto_final\")\\\n",
        "        .config(\"spark.ui.port\", \"4050\")\\\n",
        "        .getOrCreate())\n",
        "\n",
        "spark"
      ],
      "execution_count": 3,
      "outputs": [
        {
          "output_type": "execute_result",
          "data": {
            "text/html": [
              "\n",
              "            <div>\n",
              "                <p><b>SparkSession - in-memory</b></p>\n",
              "                \n",
              "        <div>\n",
              "            <p><b>SparkContext</b></p>\n",
              "\n",
              "            <p><a href=\"http://92403611581a:4050\">Spark UI</a></p>\n",
              "\n",
              "            <dl>\n",
              "              <dt>Version</dt>\n",
              "                <dd><code>v3.2.0</code></dd>\n",
              "              <dt>Master</dt>\n",
              "                <dd><code>local</code></dd>\n",
              "              <dt>AppName</dt>\n",
              "                <dd><code>mini_projeto_final</code></dd>\n",
              "            </dl>\n",
              "        </div>\n",
              "        \n",
              "            </div>\n",
              "        "
            ],
            "text/plain": [
              "<pyspark.sql.session.SparkSession at 0x7fd79cfd9790>"
            ]
          },
          "metadata": {},
          "execution_count": 3
        }
      ]
    },
    {
      "cell_type": "markdown",
      "metadata": {
        "id": "wi1RaMr_1z-o"
      },
      "source": [
        "#**Montando a estrutura do DataFrame utilizando o StructType**"
      ]
    },
    {
      "cell_type": "code",
      "metadata": {
        "id": "3K9tNcCILYDO"
      },
      "source": [
        "schema = StructType() \\\n",
        "        .add(\"ID\", IntegerType(), True) \\\n",
        "        .add(\"ano_de_nascimento\", IntegerType(), True) \\\n",
        "        .add(\"graduacao\", StringType(), True) \\\n",
        "        .add(\"estado_civil\", StringType(), True) \\\n",
        "        .add(\"renda_anual\", DoubleType(), True) \\\n",
        "        .add(\"criancas_em_casa\", IntegerType(), True) \\\n",
        "        .add(\"adolescentes_em_casa\", IntegerType(), True) \\\n",
        "        .add(\"data_cliente\", DateType(), True) \\\n",
        "        .add(\"recencia\", IntegerType(), True) \\\n",
        "        .add(\"qts_vinhos\", IntegerType(), True) \\\n",
        "        .add(\"qts_frutas\", IntegerType(), True) \\\n",
        "        .add(\"qts_produtos_carne\", IntegerType(), True) \\\n",
        "        .add(\"qts_produtos_peixe\", IntegerType(), True) \\\n",
        "        .add(\"qts_produtos_doces\", IntegerType(), True) \\\n",
        "        .add(\"qts_produtos_ouro\", IntegerType(), True) \\\n",
        "        .add(\"num_compras_desconto\", IntegerType(), True) \\\n",
        "        .add(\"num_compras_web\", IntegerType(), True) \\\n",
        "        .add(\"num_compras_catalogo\", IntegerType(), True) \\\n",
        "        .add(\"num_compras_loja\", IntegerType(), True) \\\n",
        "        .add(\"num_visitas_web_mes\", IntegerType(), True) \\\n",
        "        .add(\"campanha3\", IntegerType(), True) \\\n",
        "        .add(\"campanha4\", IntegerType(), True) \\\n",
        "        .add(\"campanha5\", IntegerType(), True) \\\n",
        "        .add(\"campanha1\", IntegerType(), True) \\\n",
        "        .add(\"campanha2\", IntegerType(), True) \\\n",
        "        .add(\"reclamacoes\", IntegerType(), True) \\\n",
        "        .add(\"resposta_alvo\", IntegerType(), True) \\\n",
        "\n",
        "df1 = spark.read.format('csv') \\\n",
        "                  .option(\"header\", True) \\\n",
        "                  .schema(schema) \\\n",
        "                  .load(\"/content/drive/MyDrive/dados/mini_projeto_final.csv\")"
      ],
      "execution_count": 4,
      "outputs": []
    },
    {
      "cell_type": "markdown",
      "metadata": {
        "id": "VrLCvti22ByJ"
      },
      "source": [
        "#**Visualizando a como ficou a estrutura do DataFrame**"
      ]
    },
    {
      "cell_type": "code",
      "metadata": {
        "colab": {
          "base_uri": "https://localhost:8080/"
        },
        "id": "By_r6eGUNLyV",
        "outputId": "53d4c30f-e5e1-4bbe-ecad-0281bfdf4c40"
      },
      "source": [
        "df1.printSchema()"
      ],
      "execution_count": 5,
      "outputs": [
        {
          "output_type": "stream",
          "name": "stdout",
          "text": [
            "root\n",
            " |-- ID: integer (nullable = true)\n",
            " |-- ano_de_nascimento: integer (nullable = true)\n",
            " |-- graduacao: string (nullable = true)\n",
            " |-- estado_civil: string (nullable = true)\n",
            " |-- renda_anual: double (nullable = true)\n",
            " |-- criancas_em_casa: integer (nullable = true)\n",
            " |-- adolescentes_em_casa: integer (nullable = true)\n",
            " |-- data_cliente: date (nullable = true)\n",
            " |-- recencia: integer (nullable = true)\n",
            " |-- qts_vinhos: integer (nullable = true)\n",
            " |-- qts_frutas: integer (nullable = true)\n",
            " |-- qts_produtos_carne: integer (nullable = true)\n",
            " |-- qts_produtos_peixe: integer (nullable = true)\n",
            " |-- qts_produtos_doces: integer (nullable = true)\n",
            " |-- qts_produtos_ouro: integer (nullable = true)\n",
            " |-- num_compras_desconto: integer (nullable = true)\n",
            " |-- num_compras_web: integer (nullable = true)\n",
            " |-- num_compras_catalogo: integer (nullable = true)\n",
            " |-- num_compras_loja: integer (nullable = true)\n",
            " |-- num_visitas_web_mes: integer (nullable = true)\n",
            " |-- campanha3: integer (nullable = true)\n",
            " |-- campanha4: integer (nullable = true)\n",
            " |-- campanha5: integer (nullable = true)\n",
            " |-- campanha1: integer (nullable = true)\n",
            " |-- campanha2: integer (nullable = true)\n",
            " |-- reclamacoes: integer (nullable = true)\n",
            " |-- resposta_alvo: integer (nullable = true)\n",
            "\n"
          ]
        }
      ]
    },
    {
      "cell_type": "markdown",
      "metadata": {
        "id": "YYjImUgbO1ir"
      },
      "source": [
        "#**Visualizando o DataFrame estruturado**"
      ]
    },
    {
      "cell_type": "code",
      "metadata": {
        "colab": {
          "base_uri": "https://localhost:8080/"
        },
        "id": "fMz8ZPHJO7wB",
        "outputId": "2930e023-c586-459c-f4ae-4dda730bfaee"
      },
      "source": [
        "df1.show()"
      ],
      "execution_count": 6,
      "outputs": [
        {
          "output_type": "stream",
          "name": "stdout",
          "text": [
            "+----+-----------------+-----------------+-------------+-----------+----------------+--------------------+------------+--------+----------+----------+------------------+------------------+------------------+-----------------+--------------------+---------------+--------------------+----------------+-------------------+---------+---------+---------+---------+---------+-----------+-------------+\n",
            "|  ID|ano_de_nascimento|        graduacao| estado_civil|renda_anual|criancas_em_casa|adolescentes_em_casa|data_cliente|recencia|qts_vinhos|qts_frutas|qts_produtos_carne|qts_produtos_peixe|qts_produtos_doces|qts_produtos_ouro|num_compras_desconto|num_compras_web|num_compras_catalogo|num_compras_loja|num_visitas_web_mes|campanha3|campanha4|campanha5|campanha1|campanha2|reclamacoes|resposta_alvo|\n",
            "+----+-----------------+-----------------+-------------+-----------+----------------+--------------------+------------+--------+----------+----------+------------------+------------------+------------------+-----------------+--------------------+---------------+--------------------+----------------+-------------------+---------+---------+---------+---------+---------+-----------+-------------+\n",
            "|5524|             1957|  Ensino Superior|  Solteiro(a)|    58138.0|               0|                   0|  2012-09-04|      58|       635|        88|               546|               172|                88|               88|                   3|              8|                  10|               4|                  7|        0|        0|        0|        0|        0|          0|            1|\n",
            "|2174|             1954|  Ensino Superior|  Solteiro(a)|    46344.0|               1|                   1|  2014-03-08|      38|        11|         1|                 6|                 2|                 1|                6|                   2|              1|                   1|               2|                  5|        0|        0|        0|        0|        0|          0|            0|\n",
            "|4141|             1965|  Ensino Superior|União Estável|    71613.0|               0|                   0|  2013-08-21|      26|       426|        49|               127|               111|                21|               42|                   1|              8|                   2|              10|                  4|        0|        0|        0|        0|        0|          0|            0|\n",
            "|6182|             1984|  Ensino Superior|União Estável|    26646.0|               1|                   0|  2014-02-10|      26|        11|         4|                20|                10|                 3|                5|                   2|              2|                   0|               4|                  6|        0|        0|        0|        0|        0|          0|            0|\n",
            "|5324|             1981|              PhD|    Casado(a)|    58293.0|               1|                   0|  2014-01-19|      94|       173|        43|               118|                46|                27|               15|                   5|              5|                   3|               6|                  5|        0|        0|        0|        0|        0|          0|            0|\n",
            "|7446|             1967|         Mestrado|União Estável|    62513.0|               0|                   1|  2013-09-09|      16|       520|        42|                98|                 0|                42|               14|                   2|              6|                   4|              10|                  6|        0|        0|        0|        0|        0|          0|            0|\n",
            "| 965|             1971|  Ensino Superior|Divorciado(a)|    55635.0|               0|                   1|  2012-11-13|      34|       235|        65|               164|                50|                49|               27|                   4|              7|                   3|               7|                  6|        0|        0|        0|        0|        0|          0|            0|\n",
            "|6177|             1985|              PhD|    Casado(a)|    33454.0|               1|                   0|  2013-05-08|      32|        76|        10|                56|                 3|                 1|               23|                   2|              4|                   0|               4|                  8|        0|        0|        0|        0|        0|          0|            0|\n",
            "|4855|             1974|              PhD|União Estável|    30351.0|               1|                   0|  2013-06-06|      19|        14|         0|                24|                 3|                 3|                2|                   1|              3|                   0|               2|                  9|        0|        0|        0|        0|        0|          0|            1|\n",
            "|5899|             1950|              PhD|União Estável|     5648.0|               1|                   1|  2014-03-13|      68|        28|         0|                 6|                 1|                 1|               13|                   1|              1|                   0|               0|                 20|        1|        0|        0|        0|        0|          0|            0|\n",
            "| 387|             1976|     Ensino Médio|    Casado(a)|     7500.0|               0|                   0|  2012-11-13|      59|         6|        16|                11|                11|                 1|               16|                   1|              2|                   0|               3|                  8|        0|        0|        0|        0|        0|          0|            0|\n",
            "|2125|             1959|  Ensino Superior|Divorciado(a)|    63033.0|               0|                   0|  2013-11-15|      82|       194|        61|               480|               225|               112|               30|                   1|              3|                   4|               8|                  2|        0|        0|        0|        0|        0|          0|            0|\n",
            "|8180|             1952|         Mestrado|Divorciado(a)|    59354.0|               1|                   1|  2013-11-15|      53|       233|         2|                53|                 3|                 5|               14|                   3|              6|                   1|               5|                  6|        0|        0|        0|        0|        0|          0|            0|\n",
            "|2569|             1987|  Ensino Superior|    Casado(a)|    17323.0|               0|                   0|  2012-10-10|      38|         3|        14|                17|                 6|                 1|                5|                   1|              1|                   0|               3|                  8|        0|        0|        0|        0|        0|          0|            0|\n",
            "|2114|             1946|              PhD|  Solteiro(a)|    82800.0|               0|                   0|  2012-11-24|      23|      1006|        22|               115|                59|                68|               45|                   1|              7|                   6|              12|                  3|        0|        0|        1|        1|        0|          0|            1|\n",
            "|9736|             1980|  Ensino Superior|    Casado(a)|    41850.0|               1|                   1|  2012-12-24|      51|        53|         5|                19|                 2|                13|                4|                   3|              3|                   0|               3|                  8|        0|        0|        0|        0|        0|          0|            0|\n",
            "|4939|             1946|  Ensino Superior|União Estável|    37760.0|               0|                   0|  2012-08-31|      20|        84|         5|                38|               150|                12|               28|                   2|              4|                   1|               6|                  7|        0|        0|        0|        0|        0|          0|            0|\n",
            "|6565|             1949|         Mestrado|    Casado(a)|    76995.0|               0|                   1|  2013-03-28|      91|      1012|        80|               498|                 0|                16|              176|                   2|             11|                   4|               9|                  5|        0|        0|        0|        1|        0|          0|            0|\n",
            "|2278|             1985|Cursando Mestrado|  Solteiro(a)|    33812.0|               1|                   0|  2012-11-03|      86|         4|        17|                19|                30|                24|               39|                   2|              2|                   1|               3|                  6|        0|        0|        0|        0|        0|          0|            0|\n",
            "|9360|             1982|  Ensino Superior|    Casado(a)|    37040.0|               0|                   0|  2012-08-08|      41|        86|         2|                73|                69|                38|               48|                   1|              4|                   2|               5|                  8|        0|        0|        0|        0|        0|          0|            0|\n",
            "+----+-----------------+-----------------+-------------+-----------+----------------+--------------------+------------+--------+----------+----------+------------------+------------------+------------------+-----------------+--------------------+---------------+--------------------+----------------+-------------------+---------+---------+---------+---------+---------+-----------+-------------+\n",
            "only showing top 20 rows\n",
            "\n"
          ]
        }
      ]
    },
    {
      "cell_type": "markdown",
      "metadata": {
        "id": "cOSN3wvb66X4"
      },
      "source": [
        "#**Modificando o nome de 2 colunas**"
      ]
    },
    {
      "cell_type": "code",
      "metadata": {
        "colab": {
          "base_uri": "https://localhost:8080/"
        },
        "id": "86nO8Ffm6k9n",
        "outputId": "7c753ce2-b222-48ca-a3d1-85e7641b323e"
      },
      "source": [
        "df1 = df1.withColumnRenamed(\"ID\", \"id\").withColumnRenamed(\"recencia\", \"qtd_dias_ultima_compra\")\n",
        "\n",
        "df1.show()"
      ],
      "execution_count": 7,
      "outputs": [
        {
          "output_type": "stream",
          "name": "stdout",
          "text": [
            "+----+-----------------+-----------------+-------------+-----------+----------------+--------------------+------------+----------------------+----------+----------+------------------+------------------+------------------+-----------------+--------------------+---------------+--------------------+----------------+-------------------+---------+---------+---------+---------+---------+-----------+-------------+\n",
            "|  id|ano_de_nascimento|        graduacao| estado_civil|renda_anual|criancas_em_casa|adolescentes_em_casa|data_cliente|qtd_dias_ultima_compra|qts_vinhos|qts_frutas|qts_produtos_carne|qts_produtos_peixe|qts_produtos_doces|qts_produtos_ouro|num_compras_desconto|num_compras_web|num_compras_catalogo|num_compras_loja|num_visitas_web_mes|campanha3|campanha4|campanha5|campanha1|campanha2|reclamacoes|resposta_alvo|\n",
            "+----+-----------------+-----------------+-------------+-----------+----------------+--------------------+------------+----------------------+----------+----------+------------------+------------------+------------------+-----------------+--------------------+---------------+--------------------+----------------+-------------------+---------+---------+---------+---------+---------+-----------+-------------+\n",
            "|5524|             1957|  Ensino Superior|  Solteiro(a)|    58138.0|               0|                   0|  2012-09-04|                    58|       635|        88|               546|               172|                88|               88|                   3|              8|                  10|               4|                  7|        0|        0|        0|        0|        0|          0|            1|\n",
            "|2174|             1954|  Ensino Superior|  Solteiro(a)|    46344.0|               1|                   1|  2014-03-08|                    38|        11|         1|                 6|                 2|                 1|                6|                   2|              1|                   1|               2|                  5|        0|        0|        0|        0|        0|          0|            0|\n",
            "|4141|             1965|  Ensino Superior|União Estável|    71613.0|               0|                   0|  2013-08-21|                    26|       426|        49|               127|               111|                21|               42|                   1|              8|                   2|              10|                  4|        0|        0|        0|        0|        0|          0|            0|\n",
            "|6182|             1984|  Ensino Superior|União Estável|    26646.0|               1|                   0|  2014-02-10|                    26|        11|         4|                20|                10|                 3|                5|                   2|              2|                   0|               4|                  6|        0|        0|        0|        0|        0|          0|            0|\n",
            "|5324|             1981|              PhD|    Casado(a)|    58293.0|               1|                   0|  2014-01-19|                    94|       173|        43|               118|                46|                27|               15|                   5|              5|                   3|               6|                  5|        0|        0|        0|        0|        0|          0|            0|\n",
            "|7446|             1967|         Mestrado|União Estável|    62513.0|               0|                   1|  2013-09-09|                    16|       520|        42|                98|                 0|                42|               14|                   2|              6|                   4|              10|                  6|        0|        0|        0|        0|        0|          0|            0|\n",
            "| 965|             1971|  Ensino Superior|Divorciado(a)|    55635.0|               0|                   1|  2012-11-13|                    34|       235|        65|               164|                50|                49|               27|                   4|              7|                   3|               7|                  6|        0|        0|        0|        0|        0|          0|            0|\n",
            "|6177|             1985|              PhD|    Casado(a)|    33454.0|               1|                   0|  2013-05-08|                    32|        76|        10|                56|                 3|                 1|               23|                   2|              4|                   0|               4|                  8|        0|        0|        0|        0|        0|          0|            0|\n",
            "|4855|             1974|              PhD|União Estável|    30351.0|               1|                   0|  2013-06-06|                    19|        14|         0|                24|                 3|                 3|                2|                   1|              3|                   0|               2|                  9|        0|        0|        0|        0|        0|          0|            1|\n",
            "|5899|             1950|              PhD|União Estável|     5648.0|               1|                   1|  2014-03-13|                    68|        28|         0|                 6|                 1|                 1|               13|                   1|              1|                   0|               0|                 20|        1|        0|        0|        0|        0|          0|            0|\n",
            "| 387|             1976|     Ensino Médio|    Casado(a)|     7500.0|               0|                   0|  2012-11-13|                    59|         6|        16|                11|                11|                 1|               16|                   1|              2|                   0|               3|                  8|        0|        0|        0|        0|        0|          0|            0|\n",
            "|2125|             1959|  Ensino Superior|Divorciado(a)|    63033.0|               0|                   0|  2013-11-15|                    82|       194|        61|               480|               225|               112|               30|                   1|              3|                   4|               8|                  2|        0|        0|        0|        0|        0|          0|            0|\n",
            "|8180|             1952|         Mestrado|Divorciado(a)|    59354.0|               1|                   1|  2013-11-15|                    53|       233|         2|                53|                 3|                 5|               14|                   3|              6|                   1|               5|                  6|        0|        0|        0|        0|        0|          0|            0|\n",
            "|2569|             1987|  Ensino Superior|    Casado(a)|    17323.0|               0|                   0|  2012-10-10|                    38|         3|        14|                17|                 6|                 1|                5|                   1|              1|                   0|               3|                  8|        0|        0|        0|        0|        0|          0|            0|\n",
            "|2114|             1946|              PhD|  Solteiro(a)|    82800.0|               0|                   0|  2012-11-24|                    23|      1006|        22|               115|                59|                68|               45|                   1|              7|                   6|              12|                  3|        0|        0|        1|        1|        0|          0|            1|\n",
            "|9736|             1980|  Ensino Superior|    Casado(a)|    41850.0|               1|                   1|  2012-12-24|                    51|        53|         5|                19|                 2|                13|                4|                   3|              3|                   0|               3|                  8|        0|        0|        0|        0|        0|          0|            0|\n",
            "|4939|             1946|  Ensino Superior|União Estável|    37760.0|               0|                   0|  2012-08-31|                    20|        84|         5|                38|               150|                12|               28|                   2|              4|                   1|               6|                  7|        0|        0|        0|        0|        0|          0|            0|\n",
            "|6565|             1949|         Mestrado|    Casado(a)|    76995.0|               0|                   1|  2013-03-28|                    91|      1012|        80|               498|                 0|                16|              176|                   2|             11|                   4|               9|                  5|        0|        0|        0|        1|        0|          0|            0|\n",
            "|2278|             1985|Cursando Mestrado|  Solteiro(a)|    33812.0|               1|                   0|  2012-11-03|                    86|         4|        17|                19|                30|                24|               39|                   2|              2|                   1|               3|                  6|        0|        0|        0|        0|        0|          0|            0|\n",
            "|9360|             1982|  Ensino Superior|    Casado(a)|    37040.0|               0|                   0|  2012-08-08|                    41|        86|         2|                73|                69|                38|               48|                   1|              4|                   2|               5|                  8|        0|        0|        0|        0|        0|          0|            0|\n",
            "+----+-----------------+-----------------+-------------+-----------+----------------+--------------------+------------+----------------------+----------+----------+------------------+------------------+------------------+-----------------+--------------------+---------------+--------------------+----------------+-------------------+---------+---------+---------+---------+---------+-----------+-------------+\n",
            "only showing top 20 rows\n",
            "\n"
          ]
        }
      ]
    },
    {
      "cell_type": "markdown",
      "metadata": {
        "id": "PC6tVTkG8PzL"
      },
      "source": [
        "#**Criando duas novas colunas contendo informações relevantes**"
      ]
    },
    {
      "cell_type": "code",
      "metadata": {
        "colab": {
          "base_uri": "https://localhost:8080/"
        },
        "id": "GiKwpYjt8NH4",
        "outputId": "466dd677-b41f-4191-a167-21a1c708396e"
      },
      "source": [
        "df1 = df1.withColumn(\"soma_qtd_produtos\", F.col(\"qts_vinhos\") + F.col(\"qts_frutas\") + F.col(\"qts_produtos_carne\") + F.col(\"qts_produtos_peixe\") + F.col(\"qts_produtos_doces\") + F.col(\"qts_produtos_ouro\"))\n",
        "ano_atual = 2021\n",
        "df1 = df1.withColumn(\"idade_cliente\", ano_atual - F.col(\"ano_de_nascimento\"))\n",
        "\n",
        "#Convertendo o tipo do dado\n",
        "df1 = df1.withColumn(\"soma_qtd_produtos\", df1.soma_qtd_produtos.cast(\"integer\"))\n",
        "\n",
        "df1.show()"
      ],
      "execution_count": 8,
      "outputs": [
        {
          "output_type": "stream",
          "name": "stdout",
          "text": [
            "+----+-----------------+-----------------+-------------+-----------+----------------+--------------------+------------+----------------------+----------+----------+------------------+------------------+------------------+-----------------+--------------------+---------------+--------------------+----------------+-------------------+---------+---------+---------+---------+---------+-----------+-------------+-----------------+-------------+\n",
            "|  id|ano_de_nascimento|        graduacao| estado_civil|renda_anual|criancas_em_casa|adolescentes_em_casa|data_cliente|qtd_dias_ultima_compra|qts_vinhos|qts_frutas|qts_produtos_carne|qts_produtos_peixe|qts_produtos_doces|qts_produtos_ouro|num_compras_desconto|num_compras_web|num_compras_catalogo|num_compras_loja|num_visitas_web_mes|campanha3|campanha4|campanha5|campanha1|campanha2|reclamacoes|resposta_alvo|soma_qtd_produtos|idade_cliente|\n",
            "+----+-----------------+-----------------+-------------+-----------+----------------+--------------------+------------+----------------------+----------+----------+------------------+------------------+------------------+-----------------+--------------------+---------------+--------------------+----------------+-------------------+---------+---------+---------+---------+---------+-----------+-------------+-----------------+-------------+\n",
            "|5524|             1957|  Ensino Superior|  Solteiro(a)|    58138.0|               0|                   0|  2012-09-04|                    58|       635|        88|               546|               172|                88|               88|                   3|              8|                  10|               4|                  7|        0|        0|        0|        0|        0|          0|            1|             1617|           64|\n",
            "|2174|             1954|  Ensino Superior|  Solteiro(a)|    46344.0|               1|                   1|  2014-03-08|                    38|        11|         1|                 6|                 2|                 1|                6|                   2|              1|                   1|               2|                  5|        0|        0|        0|        0|        0|          0|            0|               27|           67|\n",
            "|4141|             1965|  Ensino Superior|União Estável|    71613.0|               0|                   0|  2013-08-21|                    26|       426|        49|               127|               111|                21|               42|                   1|              8|                   2|              10|                  4|        0|        0|        0|        0|        0|          0|            0|              776|           56|\n",
            "|6182|             1984|  Ensino Superior|União Estável|    26646.0|               1|                   0|  2014-02-10|                    26|        11|         4|                20|                10|                 3|                5|                   2|              2|                   0|               4|                  6|        0|        0|        0|        0|        0|          0|            0|               53|           37|\n",
            "|5324|             1981|              PhD|    Casado(a)|    58293.0|               1|                   0|  2014-01-19|                    94|       173|        43|               118|                46|                27|               15|                   5|              5|                   3|               6|                  5|        0|        0|        0|        0|        0|          0|            0|              422|           40|\n",
            "|7446|             1967|         Mestrado|União Estável|    62513.0|               0|                   1|  2013-09-09|                    16|       520|        42|                98|                 0|                42|               14|                   2|              6|                   4|              10|                  6|        0|        0|        0|        0|        0|          0|            0|              716|           54|\n",
            "| 965|             1971|  Ensino Superior|Divorciado(a)|    55635.0|               0|                   1|  2012-11-13|                    34|       235|        65|               164|                50|                49|               27|                   4|              7|                   3|               7|                  6|        0|        0|        0|        0|        0|          0|            0|              590|           50|\n",
            "|6177|             1985|              PhD|    Casado(a)|    33454.0|               1|                   0|  2013-05-08|                    32|        76|        10|                56|                 3|                 1|               23|                   2|              4|                   0|               4|                  8|        0|        0|        0|        0|        0|          0|            0|              169|           36|\n",
            "|4855|             1974|              PhD|União Estável|    30351.0|               1|                   0|  2013-06-06|                    19|        14|         0|                24|                 3|                 3|                2|                   1|              3|                   0|               2|                  9|        0|        0|        0|        0|        0|          0|            1|               46|           47|\n",
            "|5899|             1950|              PhD|União Estável|     5648.0|               1|                   1|  2014-03-13|                    68|        28|         0|                 6|                 1|                 1|               13|                   1|              1|                   0|               0|                 20|        1|        0|        0|        0|        0|          0|            0|               49|           71|\n",
            "| 387|             1976|     Ensino Médio|    Casado(a)|     7500.0|               0|                   0|  2012-11-13|                    59|         6|        16|                11|                11|                 1|               16|                   1|              2|                   0|               3|                  8|        0|        0|        0|        0|        0|          0|            0|               61|           45|\n",
            "|2125|             1959|  Ensino Superior|Divorciado(a)|    63033.0|               0|                   0|  2013-11-15|                    82|       194|        61|               480|               225|               112|               30|                   1|              3|                   4|               8|                  2|        0|        0|        0|        0|        0|          0|            0|             1102|           62|\n",
            "|8180|             1952|         Mestrado|Divorciado(a)|    59354.0|               1|                   1|  2013-11-15|                    53|       233|         2|                53|                 3|                 5|               14|                   3|              6|                   1|               5|                  6|        0|        0|        0|        0|        0|          0|            0|              310|           69|\n",
            "|2569|             1987|  Ensino Superior|    Casado(a)|    17323.0|               0|                   0|  2012-10-10|                    38|         3|        14|                17|                 6|                 1|                5|                   1|              1|                   0|               3|                  8|        0|        0|        0|        0|        0|          0|            0|               46|           34|\n",
            "|2114|             1946|              PhD|  Solteiro(a)|    82800.0|               0|                   0|  2012-11-24|                    23|      1006|        22|               115|                59|                68|               45|                   1|              7|                   6|              12|                  3|        0|        0|        1|        1|        0|          0|            1|             1315|           75|\n",
            "|9736|             1980|  Ensino Superior|    Casado(a)|    41850.0|               1|                   1|  2012-12-24|                    51|        53|         5|                19|                 2|                13|                4|                   3|              3|                   0|               3|                  8|        0|        0|        0|        0|        0|          0|            0|               96|           41|\n",
            "|4939|             1946|  Ensino Superior|União Estável|    37760.0|               0|                   0|  2012-08-31|                    20|        84|         5|                38|               150|                12|               28|                   2|              4|                   1|               6|                  7|        0|        0|        0|        0|        0|          0|            0|              317|           75|\n",
            "|6565|             1949|         Mestrado|    Casado(a)|    76995.0|               0|                   1|  2013-03-28|                    91|      1012|        80|               498|                 0|                16|              176|                   2|             11|                   4|               9|                  5|        0|        0|        0|        1|        0|          0|            0|             1782|           72|\n",
            "|2278|             1985|Cursando Mestrado|  Solteiro(a)|    33812.0|               1|                   0|  2012-11-03|                    86|         4|        17|                19|                30|                24|               39|                   2|              2|                   1|               3|                  6|        0|        0|        0|        0|        0|          0|            0|              133|           36|\n",
            "|9360|             1982|  Ensino Superior|    Casado(a)|    37040.0|               0|                   0|  2012-08-08|                    41|        86|         2|                73|                69|                38|               48|                   1|              4|                   2|               5|                  8|        0|        0|        0|        0|        0|          0|            0|              316|           39|\n",
            "+----+-----------------+-----------------+-------------+-----------+----------------+--------------------+------------+----------------------+----------+----------+------------------+------------------+------------------+-----------------+--------------------+---------------+--------------------+----------------+-------------------+---------+---------+---------+---------+---------+-----------+-------------+-----------------+-------------+\n",
            "only showing top 20 rows\n",
            "\n"
          ]
        }
      ]
    },
    {
      "cell_type": "markdown",
      "metadata": {
        "id": "Pk43upr_WWid"
      },
      "source": [
        "#**Filtrando, ordenando e agrupando dados relevantes para o negócio**"
      ]
    },
    {
      "cell_type": "code",
      "metadata": {
        "id": "JLy1iZyASMwf"
      },
      "source": [
        "dados = (df1.withColumn(\"qntd_filhos\",\n",
        "          F.when(F.col(\"criancas_em_casa\") > 0, F.concat(df1.criancas_em_casa, F.lit(\" - Filhos\")))\n",
        "          .otherwise(\"Não tem filhos\")))"
      ],
      "execution_count": 9,
      "outputs": []
    },
    {
      "cell_type": "code",
      "metadata": {
        "colab": {
          "base_uri": "https://localhost:8080/"
        },
        "id": "sYR-zLYPSgBY",
        "outputId": "a97ec2b8-f6c9-4efa-ed10-d75bb37cc839"
      },
      "source": [
        "dados.select(F.col(\"estado_civil\"), F.col(\"qntd_filhos\")).show()"
      ],
      "execution_count": 10,
      "outputs": [
        {
          "output_type": "stream",
          "name": "stdout",
          "text": [
            "+-------------+--------------+\n",
            "| estado_civil|   qntd_filhos|\n",
            "+-------------+--------------+\n",
            "|  Solteiro(a)|Não tem filhos|\n",
            "|  Solteiro(a)|    1 - Filhos|\n",
            "|União Estável|Não tem filhos|\n",
            "|União Estável|    1 - Filhos|\n",
            "|    Casado(a)|    1 - Filhos|\n",
            "|União Estável|Não tem filhos|\n",
            "|Divorciado(a)|Não tem filhos|\n",
            "|    Casado(a)|    1 - Filhos|\n",
            "|União Estável|    1 - Filhos|\n",
            "|União Estável|    1 - Filhos|\n",
            "|    Casado(a)|Não tem filhos|\n",
            "|Divorciado(a)|Não tem filhos|\n",
            "|Divorciado(a)|    1 - Filhos|\n",
            "|    Casado(a)|Não tem filhos|\n",
            "|  Solteiro(a)|Não tem filhos|\n",
            "|    Casado(a)|    1 - Filhos|\n",
            "|União Estável|Não tem filhos|\n",
            "|    Casado(a)|Não tem filhos|\n",
            "|  Solteiro(a)|    1 - Filhos|\n",
            "|    Casado(a)|Não tem filhos|\n",
            "+-------------+--------------+\n",
            "only showing top 20 rows\n",
            "\n"
          ]
        }
      ]
    },
    {
      "cell_type": "markdown",
      "metadata": {
        "id": "gUAmbKabctEN"
      },
      "source": [
        "# **Utilizando Window Functions**"
      ]
    },
    {
      "cell_type": "code",
      "metadata": {
        "colab": {
          "base_uri": "https://localhost:8080/"
        },
        "id": "fQ5tWd_JX9Sg",
        "outputId": "5e4b62c9-aa39-46e7-e938-8a7943e08bb2"
      },
      "source": [
        "#RETORNA O NÚMERO DA LINHA DE ACORDO COM A COLUNA QUE FOI PARTICIONADA\n",
        "\n",
        "wf1 = Window.partitionBy(F.col(\"estado_civil\")).orderBy(\"renda_anual\")\n",
        "\n",
        "#withColumn cria uma nova coluna no dataframe\n",
        "df1.withColumn(\"row_number\", F.row_number().over(wf1)).show()"
      ],
      "execution_count": 11,
      "outputs": [
        {
          "output_type": "stream",
          "name": "stdout",
          "text": [
            "+-----+-----------------+-----------------+-------------------+-----------+----------------+--------------------+------------+----------------------+----------+----------+------------------+------------------+------------------+-----------------+--------------------+---------------+--------------------+----------------+-------------------+---------+---------+---------+---------+---------+-----------+-------------+-----------------+-------------+----------+\n",
            "|   id|ano_de_nascimento|        graduacao|       estado_civil|renda_anual|criancas_em_casa|adolescentes_em_casa|data_cliente|qtd_dias_ultima_compra|qts_vinhos|qts_frutas|qts_produtos_carne|qts_produtos_peixe|qts_produtos_doces|qts_produtos_ouro|num_compras_desconto|num_compras_web|num_compras_catalogo|num_compras_loja|num_visitas_web_mes|campanha3|campanha4|campanha5|campanha1|campanha2|reclamacoes|resposta_alvo|soma_qtd_produtos|idade_cliente|row_number|\n",
            "+-----+-----------------+-----------------+-------------------+-----------+----------------+--------------------+------------+----------------------+----------+----------+------------------+------------------+------------------+-----------------+--------------------+---------------+--------------------+----------------+-------------------+---------+---------+---------+---------+---------+-----------+-------------+-----------------+-------------+----------+\n",
            "|  492|             1973|              PhD|Aproveitando a vida|    48432.0|               0|                   1|  2012-10-18|                     3|       322|         3|                50|                 4|                 3|               42|                   5|              7|                   1|               6|                  8|        0|        0|        0|        0|        0|          0|            0|              424|           48|         1|\n",
            "|11133|             1973|              PhD|Aproveitando a vida|    48432.0|               0|                   1|  2012-10-18|                     3|       322|         3|                50|                 4|                 3|               42|                   5|              7|                   1|               6|                  8|        0|        0|        0|        0|        0|          0|            1|              424|           48|         2|\n",
            "| 5376|             1979|  Ensino Superior|          Casado(a)|     2447.0|               1|                   0|  2013-01-06|                    42|         1|         1|              1725|                 1|                 1|                1|                  15|              0|                  28|               0|                  1|        0|        0|        0|        0|        0|          0|            0|             1730|           42|         1|\n",
            "| 9931|             1963|              PhD|          Casado(a)|     4023.0|               1|                   1|  2014-06-23|                    29|         5|         0|                 1|                 1|                 1|                1|                  15|              0|                   0|               0|                 19|        0|        0|        0|        0|        0|          0|            0|                9|           58|         2|\n",
            "|10311|             1969|  Ensino Superior|          Casado(a)|     4428.0|               0|                   1|  2013-10-05|                     0|        16|         4|                12|                 2|                 4|              321|                   0|             25|                   0|               0|                  1|        0|        0|        0|        0|        0|          0|            0|              359|           52|         3|\n",
            "| 9303|             1976|  Ensino Superior|          Casado(a)|     5305.0|               0|                   1|  2013-07-30|                    12|        12|         4|                 7|                 1|                 3|                5|                   0|              1|                   0|               0|                 13|        0|        0|        0|        0|        0|          0|            0|               32|           45|         4|\n",
            "|  387|             1976|     Ensino Médio|          Casado(a)|     7500.0|               0|                   0|  2012-11-13|                    59|         6|        16|                11|                11|                 1|               16|                   1|              2|                   0|               3|                  8|        0|        0|        0|        0|        0|          0|            0|               61|           45|         5|\n",
            "| 2139|             1975|         Mestrado|          Casado(a)|     7500.0|               1|                   0|  2013-10-02|                    19|         3|         1|                10|                 3|                 2|               12|                   3|              2|                   0|               3|                  5|        0|        0|        0|        0|        0|          0|            0|               31|           46|         6|\n",
            "| 9909|             1996|Cursando Mestrado|          Casado(a)|     7500.0|               0|                   0|  2012-11-09|                    24|         3|        18|                14|                15|                22|               50|                   3|              3|                   1|               3|                  9|        0|        0|        0|        0|        0|          0|            1|              122|           25|         7|\n",
            "|  456|             1986|Cursando Mestrado|          Casado(a)|     7500.0|               1|                   0|  2013-02-07|                    96|         1|        11|                 5|                 4|                 6|                9|                   2|              2|                   0|               3|                  8|        0|        0|        0|        0|        0|          0|            0|               36|           35|         8|\n",
            "| 4692|             1976|  Ensino Superior|          Casado(a)|     7500.0|               1|                   0|  2012-08-01|                    19|         7|         0|                12|                13|                 7|               32|                   5|              4|                   1|               2|                  9|        1|        0|        0|        0|        0|          0|            1|               71|           45|         9|\n",
            "| 9553|             1987|  Ensino Superior|          Casado(a)|     7500.0|               0|                   0|  2013-01-09|                    94|         0|         2|                 3|                 4|                 1|                5|                   1|              0|                   0|               3|                  6|        0|        0|        0|        0|        0|          0|            0|               15|           34|        10|\n",
            "|10710|             1979|  Ensino Superior|          Casado(a)|     7500.0|               0|                   1|  2012-08-29|                    61|         5|         2|                 3|                 3|                 0|                5|                   1|              1|                   0|               2|                  8|        0|        0|        0|        0|        0|          0|            0|               18|           42|        11|\n",
            "| 1773|             1978|Cursando Mestrado|          Casado(a)|    12393.0|               0|                   0|  2012-12-04|                    38|         5|         6|                15|                11|                 7|               13|                   1|              2|                   0|               3|                  9|        0|        0|        0|        0|        0|          0|            0|               57|           43|        12|\n",
            "| 1160|             1970|  Ensino Superior|          Casado(a)|    13260.0|               1|                   1|  2013-08-23|                    48|         9|         4|                17|                10|                 2|                7|                   4|              3|                   0|               3|                  8|        0|        0|        0|        0|        0|          0|            0|               49|           51|        13|\n",
            "| 3641|             1976|  Ensino Superior|          Casado(a)|    13624.0|               1|                   0|  2013-01-20|                    93|        10|         2|                15|                 2|                 1|                6|                   2|              2|                   0|               3|                  6|        0|        0|        0|        0|        0|          0|            0|               36|           45|        14|\n",
            "| 3436|             1969|  Ensino Superior|          Casado(a)|    14045.0|               1|                   0|  2014-01-26|                    24|        11|         0|                 5|                 2|                 1|                1|                   1|              1|                   0|               3|                  7|        0|        0|        0|        0|        0|          0|            0|               20|           52|        15|\n",
            "| 5802|             1972|     Ensino Médio|          Casado(a)|    14188.0|               0|                   0|  2013-02-28|                    40|         2|         7|                11|                16|                12|               27|                   1|              2|                   0|               4|                  6|        0|        0|        0|        0|        0|          0|            0|               75|           49|        16|\n",
            "|  193|             1996|     Ensino Médio|          Casado(a)|    14421.0|               0|                   0|  2014-02-17|                    81|         0|         0|                 2|                 3|                 3|                8|                   1|              1|                   0|               2|                  5|        1|        0|        0|        0|        0|          0|            0|               16|           25|        17|\n",
            "| 1241|             1984|Cursando Mestrado|          Casado(a)|    14796.0|               1|                   0|  2012-09-17|                     1|        13|         3|                 8|                 7|                 4|               16|                   2|              1|                   0|               3|                  9|        0|        0|        0|        0|        0|          0|            1|               51|           37|        18|\n",
            "+-----+-----------------+-----------------+-------------------+-----------+----------------+--------------------+------------+----------------------+----------+----------+------------------+------------------+------------------+-----------------+--------------------+---------------+--------------------+----------------+-------------------+---------+---------+---------+---------+---------+-----------+-------------+-----------------+-------------+----------+\n",
            "only showing top 20 rows\n",
            "\n"
          ]
        }
      ]
    },
    {
      "cell_type": "code",
      "metadata": {
        "colab": {
          "base_uri": "https://localhost:8080/"
        },
        "id": "p4dH0PDtdC2Z",
        "outputId": "a137d742-eddf-4c59-8d2a-9adb82af3a66"
      },
      "source": [
        "df1.withColumn(\"percent_rank\", F.percent_rank().over(wf1)).show()"
      ],
      "execution_count": 12,
      "outputs": [
        {
          "output_type": "stream",
          "name": "stdout",
          "text": [
            "+-----+-----------------+-----------------+-------------------+-----------+----------------+--------------------+------------+----------------------+----------+----------+------------------+------------------+------------------+-----------------+--------------------+---------------+--------------------+----------------+-------------------+---------+---------+---------+---------+---------+-----------+-------------+-----------------+-------------+--------------------+\n",
            "|   id|ano_de_nascimento|        graduacao|       estado_civil|renda_anual|criancas_em_casa|adolescentes_em_casa|data_cliente|qtd_dias_ultima_compra|qts_vinhos|qts_frutas|qts_produtos_carne|qts_produtos_peixe|qts_produtos_doces|qts_produtos_ouro|num_compras_desconto|num_compras_web|num_compras_catalogo|num_compras_loja|num_visitas_web_mes|campanha3|campanha4|campanha5|campanha1|campanha2|reclamacoes|resposta_alvo|soma_qtd_produtos|idade_cliente|        percent_rank|\n",
            "+-----+-----------------+-----------------+-------------------+-----------+----------------+--------------------+------------+----------------------+----------+----------+------------------+------------------+------------------+-----------------+--------------------+---------------+--------------------+----------------+-------------------+---------+---------+---------+---------+---------+-----------+-------------+-----------------+-------------+--------------------+\n",
            "|  492|             1973|              PhD|Aproveitando a vida|    48432.0|               0|                   1|  2012-10-18|                     3|       322|         3|                50|                 4|                 3|               42|                   5|              7|                   1|               6|                  8|        0|        0|        0|        0|        0|          0|            0|              424|           48|                 0.0|\n",
            "|11133|             1973|              PhD|Aproveitando a vida|    48432.0|               0|                   1|  2012-10-18|                     3|       322|         3|                50|                 4|                 3|               42|                   5|              7|                   1|               6|                  8|        0|        0|        0|        0|        0|          0|            1|              424|           48|                 0.0|\n",
            "| 5376|             1979|  Ensino Superior|          Casado(a)|     2447.0|               1|                   0|  2013-01-06|                    42|         1|         1|              1725|                 1|                 1|                1|                  15|              0|                  28|               0|                  1|        0|        0|        0|        0|        0|          0|            0|             1730|           42|                 0.0|\n",
            "| 9931|             1963|              PhD|          Casado(a)|     4023.0|               1|                   1|  2014-06-23|                    29|         5|         0|                 1|                 1|                 1|                1|                  15|              0|                   0|               0|                 19|        0|        0|        0|        0|        0|          0|            0|                9|           58|0.001168224299065...|\n",
            "|10311|             1969|  Ensino Superior|          Casado(a)|     4428.0|               0|                   1|  2013-10-05|                     0|        16|         4|                12|                 2|                 4|              321|                   0|             25|                   0|               0|                  1|        0|        0|        0|        0|        0|          0|            0|              359|           52|0.002336448598130841|\n",
            "| 9303|             1976|  Ensino Superior|          Casado(a)|     5305.0|               0|                   1|  2013-07-30|                    12|        12|         4|                 7|                 1|                 3|                5|                   0|              1|                   0|               0|                 13|        0|        0|        0|        0|        0|          0|            0|               32|           45|0.003504672897196...|\n",
            "|  387|             1976|     Ensino Médio|          Casado(a)|     7500.0|               0|                   0|  2012-11-13|                    59|         6|        16|                11|                11|                 1|               16|                   1|              2|                   0|               3|                  8|        0|        0|        0|        0|        0|          0|            0|               61|           45|0.004672897196261682|\n",
            "| 2139|             1975|         Mestrado|          Casado(a)|     7500.0|               1|                   0|  2013-10-02|                    19|         3|         1|                10|                 3|                 2|               12|                   3|              2|                   0|               3|                  5|        0|        0|        0|        0|        0|          0|            0|               31|           46|0.004672897196261682|\n",
            "| 9909|             1996|Cursando Mestrado|          Casado(a)|     7500.0|               0|                   0|  2012-11-09|                    24|         3|        18|                14|                15|                22|               50|                   3|              3|                   1|               3|                  9|        0|        0|        0|        0|        0|          0|            1|              122|           25|0.004672897196261682|\n",
            "|  456|             1986|Cursando Mestrado|          Casado(a)|     7500.0|               1|                   0|  2013-02-07|                    96|         1|        11|                 5|                 4|                 6|                9|                   2|              2|                   0|               3|                  8|        0|        0|        0|        0|        0|          0|            0|               36|           35|0.004672897196261682|\n",
            "| 4692|             1976|  Ensino Superior|          Casado(a)|     7500.0|               1|                   0|  2012-08-01|                    19|         7|         0|                12|                13|                 7|               32|                   5|              4|                   1|               2|                  9|        1|        0|        0|        0|        0|          0|            1|               71|           45|0.004672897196261682|\n",
            "| 9553|             1987|  Ensino Superior|          Casado(a)|     7500.0|               0|                   0|  2013-01-09|                    94|         0|         2|                 3|                 4|                 1|                5|                   1|              0|                   0|               3|                  6|        0|        0|        0|        0|        0|          0|            0|               15|           34|0.004672897196261682|\n",
            "|10710|             1979|  Ensino Superior|          Casado(a)|     7500.0|               0|                   1|  2012-08-29|                    61|         5|         2|                 3|                 3|                 0|                5|                   1|              1|                   0|               2|                  8|        0|        0|        0|        0|        0|          0|            0|               18|           42|0.004672897196261682|\n",
            "| 1773|             1978|Cursando Mestrado|          Casado(a)|    12393.0|               0|                   0|  2012-12-04|                    38|         5|         6|                15|                11|                 7|               13|                   1|              2|                   0|               3|                  9|        0|        0|        0|        0|        0|          0|            0|               57|           43|0.012850467289719626|\n",
            "| 1160|             1970|  Ensino Superior|          Casado(a)|    13260.0|               1|                   1|  2013-08-23|                    48|         9|         4|                17|                10|                 2|                7|                   4|              3|                   0|               3|                  8|        0|        0|        0|        0|        0|          0|            0|               49|           51|0.014018691588785047|\n",
            "| 3641|             1976|  Ensino Superior|          Casado(a)|    13624.0|               1|                   0|  2013-01-20|                    93|        10|         2|                15|                 2|                 1|                6|                   2|              2|                   0|               3|                  6|        0|        0|        0|        0|        0|          0|            0|               36|           45|0.015186915887850467|\n",
            "| 3436|             1969|  Ensino Superior|          Casado(a)|    14045.0|               1|                   0|  2014-01-26|                    24|        11|         0|                 5|                 2|                 1|                1|                   1|              1|                   0|               3|                  7|        0|        0|        0|        0|        0|          0|            0|               20|           52|0.016355140186915886|\n",
            "| 5802|             1972|     Ensino Médio|          Casado(a)|    14188.0|               0|                   0|  2013-02-28|                    40|         2|         7|                11|                16|                12|               27|                   1|              2|                   0|               4|                  6|        0|        0|        0|        0|        0|          0|            0|               75|           49|0.017523364485981307|\n",
            "|  193|             1996|     Ensino Médio|          Casado(a)|    14421.0|               0|                   0|  2014-02-17|                    81|         0|         0|                 2|                 3|                 3|                8|                   1|              1|                   0|               2|                  5|        1|        0|        0|        0|        0|          0|            0|               16|           25|0.018691588785046728|\n",
            "| 1241|             1984|Cursando Mestrado|          Casado(a)|    14796.0|               1|                   0|  2012-09-17|                     1|        13|         3|                 8|                 7|                 4|               16|                   2|              1|                   0|               3|                  9|        0|        0|        0|        0|        0|          0|            1|               51|           37| 0.01985981308411215|\n",
            "+-----+-----------------+-----------------+-------------------+-----------+----------------+--------------------+------------+----------------------+----------+----------+------------------+------------------+------------------+-----------------+--------------------+---------------+--------------------+----------------+-------------------+---------+---------+---------+---------+---------+-----------+-------------+-----------------+-------------+--------------------+\n",
            "only showing top 20 rows\n",
            "\n"
          ]
        }
      ]
    },
    {
      "cell_type": "markdown",
      "metadata": {
        "id": "YvvSKaGRGM12"
      },
      "source": [
        "#**Salvando o DataFrame em um arquivo .csv**"
      ]
    },
    {
      "cell_type": "code",
      "metadata": {
        "id": "UHA9UQRMBJrj"
      },
      "source": [
        "df1.write.format(\"csv\").option(\"header\", \"true\").option(\"schema\", \"true\").option(\"delimiter\", \",\").save(\"/content/drive/MyDrive/dados/df_pyspark_campanhaMKT.csv\")"
      ],
      "execution_count": 13,
      "outputs": []
    }
  ]
}