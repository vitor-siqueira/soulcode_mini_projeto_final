{
  "nbformat": 4,
  "nbformat_minor": 0,
  "metadata": {
    "colab": {
      "name": "Mini Projeto Final PySpark.SQL",
      "provenance": [],
      "collapsed_sections": []
    },
    "kernelspec": {
      "name": "python3",
      "display_name": "Python 3"
    },
    "language_info": {
      "name": "python"
    }
  },
  "cells": [
    {
      "cell_type": "markdown",
      "metadata": {
        "id": "tYIM4g9_Gpb-"
      },
      "source": [
        "#**Instalando a biblioteca PySpark**\n",
        "\n",
        "Obs: Toda vez que for trabalhar com o PySpark no Colab tem que fazer a instalação do PySpark"
      ]
    },
    {
      "cell_type": "code",
      "metadata": {
        "colab": {
          "base_uri": "https://localhost:8080/"
        },
        "id": "Tu3mvwNkGgCS",
        "outputId": "fd165ee2-862d-45ce-f7f1-dc2e75dbd3c8"
      },
      "source": [
        "pip install pyspark"
      ],
      "execution_count": 1,
      "outputs": [
        {
          "output_type": "stream",
          "name": "stdout",
          "text": [
            "Collecting pyspark\n",
            "  Downloading pyspark-3.2.0.tar.gz (281.3 MB)\n",
            "\u001b[K     |████████████████████████████████| 281.3 MB 35 kB/s \n",
            "\u001b[?25hCollecting py4j==0.10.9.2\n",
            "  Downloading py4j-0.10.9.2-py2.py3-none-any.whl (198 kB)\n",
            "\u001b[K     |████████████████████████████████| 198 kB 61.1 MB/s \n",
            "\u001b[?25hBuilding wheels for collected packages: pyspark\n",
            "  Building wheel for pyspark (setup.py) ... \u001b[?25l\u001b[?25hdone\n",
            "  Created wheel for pyspark: filename=pyspark-3.2.0-py2.py3-none-any.whl size=281805912 sha256=2addf9499c8adaef334ab196daec5515e786403472a9b52007d59d5255881f84\n",
            "  Stored in directory: /root/.cache/pip/wheels/0b/de/d2/9be5d59d7331c6c2a7c1b6d1a4f463ce107332b1ecd4e80718\n",
            "Successfully built pyspark\n",
            "Installing collected packages: py4j, pyspark\n",
            "Successfully installed py4j-0.10.9.2 pyspark-3.2.0\n"
          ]
        }
      ]
    },
    {
      "cell_type": "markdown",
      "metadata": {
        "id": "6QxZdujaIjRU"
      },
      "source": [
        "#**Importando Bibliotecas**"
      ]
    },
    {
      "cell_type": "code",
      "metadata": {
        "id": "vZY8w9UzH3SN"
      },
      "source": [
        "from pyspark.sql import SparkSession"
      ],
      "execution_count": 2,
      "outputs": []
    },
    {
      "cell_type": "markdown",
      "metadata": {
        "id": "-_aYfuRtIqnT"
      },
      "source": [
        "#**Configurando a SparkSession**"
      ]
    },
    {
      "cell_type": "code",
      "metadata": {
        "colab": {
          "base_uri": "https://localhost:8080/",
          "height": 213
        },
        "id": "2l5OJcHIIlh7",
        "outputId": "1b2fa8c2-b3ce-47ed-e5ec-afb7763a5045"
      },
      "source": [
        "spark = (SparkSession.builder\\\n",
        "        .master(\"local\")\\\n",
        "        .appName(\"mini_projeto_final\")\\\n",
        "        .config(\"spark.ui.port\", \"4050\")\\\n",
        "        .getOrCreate())\n",
        "\n",
        "spark"
      ],
      "execution_count": 3,
      "outputs": [
        {
          "output_type": "execute_result",
          "data": {
            "text/html": [
              "\n",
              "            <div>\n",
              "                <p><b>SparkSession - in-memory</b></p>\n",
              "                \n",
              "        <div>\n",
              "            <p><b>SparkContext</b></p>\n",
              "\n",
              "            <p><a href=\"http://ae12b70178c5:4050\">Spark UI</a></p>\n",
              "\n",
              "            <dl>\n",
              "              <dt>Version</dt>\n",
              "                <dd><code>v3.2.0</code></dd>\n",
              "              <dt>Master</dt>\n",
              "                <dd><code>local</code></dd>\n",
              "              <dt>AppName</dt>\n",
              "                <dd><code>mini_projeto_final</code></dd>\n",
              "            </dl>\n",
              "        </div>\n",
              "        \n",
              "            </div>\n",
              "        "
            ],
            "text/plain": [
              "<pyspark.sql.session.SparkSession at 0x7fb195b0bb90>"
            ]
          },
          "metadata": {},
          "execution_count": 3
        }
      ]
    },
    {
      "cell_type": "markdown",
      "metadata": {
        "id": "AIGk4B05ItV7"
      },
      "source": [
        "#**Importando o arquivo .csv**"
      ]
    },
    {
      "cell_type": "code",
      "metadata": {
        "id": "ArUsuugGI0aj"
      },
      "source": [
        "df = (spark.read.format(\"csv\")\n",
        "  .option(\"inferSchema\", \"true\")\n",
        "  .option(\"header\", \"true\")\n",
        "  .option(\"sep\", \",\")\n",
        "  .load(\"/content/drive/MyDrive/dados/df_pyspark_campanhaMKT.csv\")\n",
        "  .createOrReplaceTempView(\"campanha_mkt\")\n",
        "     )"
      ],
      "execution_count": 7,
      "outputs": []
    },
    {
      "cell_type": "markdown",
      "metadata": {
        "id": "COWT_68EKaCq"
      },
      "source": [
        "# **Fazendo consultas utilizando o SparkSQL**"
      ]
    },
    {
      "cell_type": "code",
      "metadata": {
        "colab": {
          "base_uri": "https://localhost:8080/"
        },
        "id": "UwUrIIvCKC0r",
        "outputId": "46c6f044-debf-4b1a-860d-966c7a547b75"
      },
      "source": [
        "# Consulta feita para visualizar todos os dados\n",
        "\n",
        "spark.sql(\"SELECT * FROM campanha_mkt\").show()"
      ],
      "execution_count": 8,
      "outputs": [
        {
          "output_type": "stream",
          "name": "stdout",
          "text": [
            "+----+-----------------+-----------------+-------------+-----------+----------------+--------------------+------------+----------------------+----------+----------+------------------+------------------+------------------+-----------------+--------------------+---------------+--------------------+----------------+-------------------+---------+---------+---------+---------+---------+-----------+-------------+-----------------+-------------+\n",
            "|  id|ano_de_nascimento|        graduacao| estado_civil|renda_anual|criancas_em_casa|adolescentes_em_casa|data_cliente|qtd_dias_ultima_compra|qts_vinhos|qts_frutas|qts_produtos_carne|qts_produtos_peixe|qts_produtos_doces|qts_produtos_ouro|num_compras_desconto|num_compras_web|num_compras_catalogo|num_compras_loja|num_visitas_web_mes|campanha3|campanha4|campanha5|campanha1|campanha2|reclamacoes|resposta_alvo|soma_qtd_produtos|idade_cliente|\n",
            "+----+-----------------+-----------------+-------------+-----------+----------------+--------------------+------------+----------------------+----------+----------+------------------+------------------+------------------+-----------------+--------------------+---------------+--------------------+----------------+-------------------+---------+---------+---------+---------+---------+-----------+-------------+-----------------+-------------+\n",
            "|5524|             1957|  Ensino Superior|  Solteiro(a)|    58138.0|               0|                   0|  2012-09-04|                    58|       635|        88|               546|               172|                88|               88|                   3|              8|                  10|               4|                  7|        0|        0|        0|        0|        0|          0|            1|             1617|           64|\n",
            "|2174|             1954|  Ensino Superior|  Solteiro(a)|    46344.0|               1|                   1|  2014-03-08|                    38|        11|         1|                 6|                 2|                 1|                6|                   2|              1|                   1|               2|                  5|        0|        0|        0|        0|        0|          0|            0|               27|           67|\n",
            "|4141|             1965|  Ensino Superior|União Estável|    71613.0|               0|                   0|  2013-08-21|                    26|       426|        49|               127|               111|                21|               42|                   1|              8|                   2|              10|                  4|        0|        0|        0|        0|        0|          0|            0|              776|           56|\n",
            "|6182|             1984|  Ensino Superior|União Estável|    26646.0|               1|                   0|  2014-02-10|                    26|        11|         4|                20|                10|                 3|                5|                   2|              2|                   0|               4|                  6|        0|        0|        0|        0|        0|          0|            0|               53|           37|\n",
            "|5324|             1981|              PhD|    Casado(a)|    58293.0|               1|                   0|  2014-01-19|                    94|       173|        43|               118|                46|                27|               15|                   5|              5|                   3|               6|                  5|        0|        0|        0|        0|        0|          0|            0|              422|           40|\n",
            "|7446|             1967|         Mestrado|União Estável|    62513.0|               0|                   1|  2013-09-09|                    16|       520|        42|                98|                 0|                42|               14|                   2|              6|                   4|              10|                  6|        0|        0|        0|        0|        0|          0|            0|              716|           54|\n",
            "| 965|             1971|  Ensino Superior|Divorciado(a)|    55635.0|               0|                   1|  2012-11-13|                    34|       235|        65|               164|                50|                49|               27|                   4|              7|                   3|               7|                  6|        0|        0|        0|        0|        0|          0|            0|              590|           50|\n",
            "|6177|             1985|              PhD|    Casado(a)|    33454.0|               1|                   0|  2013-05-08|                    32|        76|        10|                56|                 3|                 1|               23|                   2|              4|                   0|               4|                  8|        0|        0|        0|        0|        0|          0|            0|              169|           36|\n",
            "|4855|             1974|              PhD|União Estável|    30351.0|               1|                   0|  2013-06-06|                    19|        14|         0|                24|                 3|                 3|                2|                   1|              3|                   0|               2|                  9|        0|        0|        0|        0|        0|          0|            1|               46|           47|\n",
            "|5899|             1950|              PhD|União Estável|     5648.0|               1|                   1|  2014-03-13|                    68|        28|         0|                 6|                 1|                 1|               13|                   1|              1|                   0|               0|                 20|        1|        0|        0|        0|        0|          0|            0|               49|           71|\n",
            "| 387|             1976|     Ensino Médio|    Casado(a)|     7500.0|               0|                   0|  2012-11-13|                    59|         6|        16|                11|                11|                 1|               16|                   1|              2|                   0|               3|                  8|        0|        0|        0|        0|        0|          0|            0|               61|           45|\n",
            "|2125|             1959|  Ensino Superior|Divorciado(a)|    63033.0|               0|                   0|  2013-11-15|                    82|       194|        61|               480|               225|               112|               30|                   1|              3|                   4|               8|                  2|        0|        0|        0|        0|        0|          0|            0|             1102|           62|\n",
            "|8180|             1952|         Mestrado|Divorciado(a)|    59354.0|               1|                   1|  2013-11-15|                    53|       233|         2|                53|                 3|                 5|               14|                   3|              6|                   1|               5|                  6|        0|        0|        0|        0|        0|          0|            0|              310|           69|\n",
            "|2569|             1987|  Ensino Superior|    Casado(a)|    17323.0|               0|                   0|  2012-10-10|                    38|         3|        14|                17|                 6|                 1|                5|                   1|              1|                   0|               3|                  8|        0|        0|        0|        0|        0|          0|            0|               46|           34|\n",
            "|2114|             1946|              PhD|  Solteiro(a)|    82800.0|               0|                   0|  2012-11-24|                    23|      1006|        22|               115|                59|                68|               45|                   1|              7|                   6|              12|                  3|        0|        0|        1|        1|        0|          0|            1|             1315|           75|\n",
            "|9736|             1980|  Ensino Superior|    Casado(a)|    41850.0|               1|                   1|  2012-12-24|                    51|        53|         5|                19|                 2|                13|                4|                   3|              3|                   0|               3|                  8|        0|        0|        0|        0|        0|          0|            0|               96|           41|\n",
            "|4939|             1946|  Ensino Superior|União Estável|    37760.0|               0|                   0|  2012-08-31|                    20|        84|         5|                38|               150|                12|               28|                   2|              4|                   1|               6|                  7|        0|        0|        0|        0|        0|          0|            0|              317|           75|\n",
            "|6565|             1949|         Mestrado|    Casado(a)|    76995.0|               0|                   1|  2013-03-28|                    91|      1012|        80|               498|                 0|                16|              176|                   2|             11|                   4|               9|                  5|        0|        0|        0|        1|        0|          0|            0|             1782|           72|\n",
            "|2278|             1985|Cursando Mestrado|  Solteiro(a)|    33812.0|               1|                   0|  2012-11-03|                    86|         4|        17|                19|                30|                24|               39|                   2|              2|                   1|               3|                  6|        0|        0|        0|        0|        0|          0|            0|              133|           36|\n",
            "|9360|             1982|  Ensino Superior|    Casado(a)|    37040.0|               0|                   0|  2012-08-08|                    41|        86|         2|                73|                69|                38|               48|                   1|              4|                   2|               5|                  8|        0|        0|        0|        0|        0|          0|            0|              316|           39|\n",
            "+----+-----------------+-----------------+-------------+-----------+----------------+--------------------+------------+----------------------+----------+----------+------------------+------------------+------------------+-----------------+--------------------+---------------+--------------------+----------------+-------------------+---------+---------+---------+---------+---------+-----------+-------------+-----------------+-------------+\n",
            "only showing top 20 rows\n",
            "\n"
          ]
        }
      ]
    },
    {
      "cell_type": "code",
      "metadata": {
        "colab": {
          "base_uri": "https://localhost:8080/"
        },
        "id": "4QZqEIshKWyt",
        "outputId": "9f546c6f-5580-4ade-9283-211dc740b7bf"
      },
      "source": [
        "# Consulta realizada para fazer comparação entre graduacao, estado_civil e renda\n",
        "\n",
        "spark.sql(\"SELECT graduacao, estado_civil, renda_anual FROM campanha_mkt\").show()"
      ],
      "execution_count": 10,
      "outputs": [
        {
          "output_type": "stream",
          "name": "stdout",
          "text": [
            "+-----------------+-------------+-----------+\n",
            "|        graduacao| estado_civil|renda_anual|\n",
            "+-----------------+-------------+-----------+\n",
            "|  Ensino Superior|  Solteiro(a)|    58138.0|\n",
            "|  Ensino Superior|  Solteiro(a)|    46344.0|\n",
            "|  Ensino Superior|União Estável|    71613.0|\n",
            "|  Ensino Superior|União Estável|    26646.0|\n",
            "|              PhD|    Casado(a)|    58293.0|\n",
            "|         Mestrado|União Estável|    62513.0|\n",
            "|  Ensino Superior|Divorciado(a)|    55635.0|\n",
            "|              PhD|    Casado(a)|    33454.0|\n",
            "|              PhD|União Estável|    30351.0|\n",
            "|              PhD|União Estável|     5648.0|\n",
            "|     Ensino Médio|    Casado(a)|     7500.0|\n",
            "|  Ensino Superior|Divorciado(a)|    63033.0|\n",
            "|         Mestrado|Divorciado(a)|    59354.0|\n",
            "|  Ensino Superior|    Casado(a)|    17323.0|\n",
            "|              PhD|  Solteiro(a)|    82800.0|\n",
            "|  Ensino Superior|    Casado(a)|    41850.0|\n",
            "|  Ensino Superior|União Estável|    37760.0|\n",
            "|         Mestrado|    Casado(a)|    76995.0|\n",
            "|Cursando Mestrado|  Solteiro(a)|    33812.0|\n",
            "|  Ensino Superior|    Casado(a)|    37040.0|\n",
            "+-----------------+-------------+-----------+\n",
            "only showing top 20 rows\n",
            "\n"
          ]
        }
      ]
    },
    {
      "cell_type": "code",
      "metadata": {
        "colab": {
          "base_uri": "https://localhost:8080/"
        },
        "id": "-Saycjx0LTE1",
        "outputId": "e506ee19-5bf1-45b1-ad36-9a7fa62ee9e3"
      },
      "source": [
        "# Consulta realizada para saber a quantidade de filhos contidos por cada estado civil\n",
        "\n",
        "spark.sql(\"SELECT estado_civil, COUNT(criancas_em_casa, adolescentes_em_casa) AS qtd_filhos FROM campanha_mkt GROUP BY estado_civil\").show()"
      ],
      "execution_count": 11,
      "outputs": [
        {
          "output_type": "stream",
          "name": "stdout",
          "text": [
            "+-------------------+----------+\n",
            "|       estado_civil|qtd_filhos|\n",
            "+-------------------+----------+\n",
            "|           Viúvo(a)|        76|\n",
            "|      Divorciado(a)|       231|\n",
            "|          Casado(a)|       857|\n",
            "|         Sozinho(a)|         3|\n",
            "|Aproveitando a vida|         2|\n",
            "|      União Estável|       572|\n",
            "|        Solteiro(a)|       470|\n",
            "+-------------------+----------+\n",
            "\n"
          ]
        }
      ]
    },
    {
      "cell_type": "code",
      "metadata": {
        "colab": {
          "base_uri": "https://localhost:8080/"
        },
        "id": "83rr_V8ZMELj",
        "outputId": "759022c1-6564-46c1-dfda-a15fe64f5a57"
      },
      "source": [
        "# Consulta realizada para saber a quantidade de consumo anual com idade > 30\n",
        "\n",
        "spark.sql(\"SELECT idade_cliente, COUNT(soma_qtd_produtos) AS consumo_idade FROM campanha_mkt GROUP BY idade_cliente HAVING idade_cliente > 30\").show()"
      ],
      "execution_count": 13,
      "outputs": [
        {
          "output_type": "stream",
          "name": "stdout",
          "text": [
            "+-------------+-------------+\n",
            "|idade_cliente|consumo_idade|\n",
            "+-------------+-------------+\n",
            "|           31|           18|\n",
            "|           65|           55|\n",
            "|           53|           51|\n",
            "|           78|            6|\n",
            "|           34|           27|\n",
            "|           81|            1|\n",
            "|           76|            8|\n",
            "|           44|           52|\n",
            "|           47|           69|\n",
            "|           52|           70|\n",
            "|           40|           38|\n",
            "|           57|           41|\n",
            "|           54|           44|\n",
            "|           48|           72|\n",
            "|           64|           40|\n",
            "|           41|           39|\n",
            "|           43|           76|\n",
            "|           37|           38|\n",
            "|           61|           49|\n",
            "|           72|           30|\n",
            "+-------------+-------------+\n",
            "only showing top 20 rows\n",
            "\n"
          ]
        }
      ]
    },
    {
      "cell_type": "code",
      "metadata": {
        "colab": {
          "base_uri": "https://localhost:8080/"
        },
        "id": "cFMFpBynNR_v",
        "outputId": "05293988-eb0b-4385-e037-fe15bb58085a"
      },
      "source": [
        "# Consulta realizada para saber a somatória, o mínimo, o máximo e a média do consumo de vinhos por renda anual\n",
        "\n",
        "spark.sql(\"SELECT idade_cliente, SUM(qts_vinhos) AS soma_qts_vinhos, MIN(qts_vinhos) AS min_qts_vinhos, MAX(qts_vinhos) AS max_qts_vinhos, AVG(qts_vinhos) AS media_qts_vinhos FROM campanha_mkt GROUP BY idade_cliente ORDER BY idade_cliente\").show()"
      ],
      "execution_count": 17,
      "outputs": [
        {
          "output_type": "stream",
          "name": "stdout",
          "text": [
            "+-------------+---------------+--------------+--------------+------------------+\n",
            "|idade_cliente|soma_qts_vinhos|min_qts_vinhos|max_qts_vinhos|  media_qts_vinhos|\n",
            "+-------------+---------------+--------------+--------------+------------------+\n",
            "|           25|              3|             0|             3|               1.5|\n",
            "|           26|           1421|             4|           594|             284.2|\n",
            "|           27|           1977|           241|           966|             659.0|\n",
            "|           28|           1485|           315|           420|            371.25|\n",
            "|           29|           3289|             1|           962|             253.0|\n",
            "|           30|           8238|             0|          1332|             549.2|\n",
            "|           31|           3435|             1|           863|190.83333333333334|\n",
            "|           32|           5376|             0|           957| 185.3793103448276|\n",
            "|           33|           8742|             2|          1259|301.44827586206895|\n",
            "|           34|           7819|             0|          1285| 289.5925925925926|\n",
            "|           35|           8592|             1|          1311| 209.5609756097561|\n",
            "|           36|           5190|             1|          1067|          162.1875|\n",
            "|           37|           6069|             1|          1218|159.71052631578948|\n",
            "|           38|           9893|             3|          1308|241.29268292682926|\n",
            "|           39|          15466|             2|          1478|             351.5|\n",
            "|           40|           9110|             0|          1003|239.73684210526315|\n",
            "|           41|           8221|             1|           840| 210.7948717948718|\n",
            "|           42|          10167|             0|          1230|191.83018867924528|\n",
            "|           43|          14709|             1|          1023|193.53947368421052|\n",
            "|           44|          13237|             1|          1050|254.55769230769232|\n",
            "+-------------+---------------+--------------+--------------+------------------+\n",
            "only showing top 20 rows\n",
            "\n"
          ]
        }
      ]
    },
    {
      "cell_type": "code",
      "metadata": {
        "colab": {
          "base_uri": "https://localhost:8080/"
        },
        "id": "z3_Y_VlGThaN",
        "outputId": "70d89f3d-3903-4efa-d3c5-fb9c004ffbc9"
      },
      "source": [
        "# Consulta realizada para saber quantas visitas na web tiveram por idade\n",
        "\n",
        "spark.sql(\"SELECT idade_cliente, COUNT(num_visitas_web_mes) AS visitas_web FROM campanha_mkt GROUP BY idade_cliente ORDER BY idade_cliente\").show()"
      ],
      "execution_count": 26,
      "outputs": [
        {
          "output_type": "stream",
          "name": "stdout",
          "text": [
            "+-------------+-----------+\n",
            "|idade_cliente|visitas_web|\n",
            "+-------------+-----------+\n",
            "|           25|          2|\n",
            "|           26|          5|\n",
            "|           27|          3|\n",
            "|           28|          4|\n",
            "|           29|         13|\n",
            "|           30|         15|\n",
            "|           31|         18|\n",
            "|           32|         29|\n",
            "|           33|         29|\n",
            "|           34|         27|\n",
            "|           35|         41|\n",
            "|           36|         32|\n",
            "|           37|         38|\n",
            "|           38|         41|\n",
            "|           39|         44|\n",
            "|           40|         38|\n",
            "|           41|         39|\n",
            "|           42|         53|\n",
            "|           43|         76|\n",
            "|           44|         52|\n",
            "+-------------+-----------+\n",
            "only showing top 20 rows\n",
            "\n"
          ]
        }
      ]
    },
    {
      "cell_type": "code",
      "metadata": {
        "colab": {
          "base_uri": "https://localhost:8080/"
        },
        "id": "_Usc42V4V_0N",
        "outputId": "c3ebe9ec-af86-4225-c02f-5711392a118e"
      },
      "source": [
        "# Consulta realizada para saber a idade, a graduação, a renda anual e o consumo de carne\n",
        "\n",
        "spark.sql(\"SELECT idade_cliente, graduacao, renda_anual, qts_produtos_carne FROM campanha_mkt\").show()"
      ],
      "execution_count": 31,
      "outputs": [
        {
          "output_type": "stream",
          "name": "stdout",
          "text": [
            "+-------------+-----------------+-----------+------------------+\n",
            "|idade_cliente|        graduacao|renda_anual|qts_produtos_carne|\n",
            "+-------------+-----------------+-----------+------------------+\n",
            "|           64|  Ensino Superior|    58138.0|               546|\n",
            "|           67|  Ensino Superior|    46344.0|                 6|\n",
            "|           56|  Ensino Superior|    71613.0|               127|\n",
            "|           37|  Ensino Superior|    26646.0|                20|\n",
            "|           40|              PhD|    58293.0|               118|\n",
            "|           54|         Mestrado|    62513.0|                98|\n",
            "|           50|  Ensino Superior|    55635.0|               164|\n",
            "|           36|              PhD|    33454.0|                56|\n",
            "|           47|              PhD|    30351.0|                24|\n",
            "|           71|              PhD|     5648.0|                 6|\n",
            "|           45|     Ensino Médio|     7500.0|                11|\n",
            "|           62|  Ensino Superior|    63033.0|               480|\n",
            "|           69|         Mestrado|    59354.0|                53|\n",
            "|           34|  Ensino Superior|    17323.0|                17|\n",
            "|           75|              PhD|    82800.0|               115|\n",
            "|           41|  Ensino Superior|    41850.0|                19|\n",
            "|           75|  Ensino Superior|    37760.0|                38|\n",
            "|           72|         Mestrado|    76995.0|               498|\n",
            "|           36|Cursando Mestrado|    33812.0|                19|\n",
            "|           39|  Ensino Superior|    37040.0|                73|\n",
            "+-------------+-----------------+-----------+------------------+\n",
            "only showing top 20 rows\n",
            "\n"
          ]
        }
      ]
    },
    {
      "cell_type": "code",
      "metadata": {
        "colab": {
          "base_uri": "https://localhost:8080/"
        },
        "id": "Inac1BTQX-FU",
        "outputId": "f7b80ac2-d227-4586-a950-3805a98ca5dc"
      },
      "source": [
        "# Consulta realizada para saber o consumo de doces e quantas crianças tem em casa\n",
        "\n",
        "spark.sql(\"SELECT qts_produtos_doces, SUM(criancas_em_casa) AS qts_filhos FROM campanha_mkt GROUP BY qts_produtos_doces\").show()"
      ],
      "execution_count": 43,
      "outputs": [
        {
          "output_type": "stream",
          "name": "stdout",
          "text": [
            "+------------------+----------+\n",
            "|qts_produtos_doces|qts_filhos|\n",
            "+------------------+----------+\n",
            "|               148|         0|\n",
            "|                31|         0|\n",
            "|               137|         0|\n",
            "|                85|         0|\n",
            "|                65|         0|\n",
            "|                53|         0|\n",
            "|               133|         0|\n",
            "|                78|         1|\n",
            "|               108|         0|\n",
            "|                34|         2|\n",
            "|               115|         0|\n",
            "|               101|         0|\n",
            "|               126|         2|\n",
            "|                81|         0|\n",
            "|                28|         2|\n",
            "|                76|         0|\n",
            "|                27|         4|\n",
            "|                26|         3|\n",
            "|                44|         1|\n",
            "|               192|         0|\n",
            "+------------------+----------+\n",
            "only showing top 20 rows\n",
            "\n"
          ]
        }
      ]
    },
    {
      "cell_type": "code",
      "metadata": {
        "colab": {
          "base_uri": "https://localhost:8080/"
        },
        "id": "Pgv40cGGeNhd",
        "outputId": "2f67d910-2bab-4ea7-d026-74c8420bc41c"
      },
      "source": [
        "# Consulta realizada para saber o nível de escolaridade que aceitaram a campanha de mkt\n",
        "\n",
        "spark.sql(\"SELECT graduacao, SUM(resposta_alvo) AS aceitaram_campanha FROM campanha_mkt GROUP BY graduacao\").show()"
      ],
      "execution_count": 44,
      "outputs": [
        {
          "output_type": "stream",
          "name": "stdout",
          "text": [
            "+-----------------+------------------+\n",
            "|        graduacao|aceitaram_campanha|\n",
            "+-----------------+------------------+\n",
            "|  Ensino Superior|               151|\n",
            "|              PhD|               101|\n",
            "|Cursando Mestrado|                22|\n",
            "|     Ensino Médio|                 2|\n",
            "|         Mestrado|                56|\n",
            "+-----------------+------------------+\n",
            "\n"
          ]
        }
      ]
    },
    {
      "cell_type": "code",
      "metadata": {
        "colab": {
          "base_uri": "https://localhost:8080/"
        },
        "id": "DWaNHssve6O_",
        "outputId": "f3946768-255a-42d2-924d-935fd95aa9eb"
      },
      "source": [
        "# Consulta realizada para saber a idade do cliente e o consumo de peixe\n",
        "\n",
        "spark.sql(\"SELECT idade_cliente, qts_produtos_peixe FROM campanha_mkt\").show()"
      ],
      "execution_count": 45,
      "outputs": [
        {
          "output_type": "stream",
          "name": "stdout",
          "text": [
            "+-------------+------------------+\n",
            "|idade_cliente|qts_produtos_peixe|\n",
            "+-------------+------------------+\n",
            "|           64|               172|\n",
            "|           67|                 2|\n",
            "|           56|               111|\n",
            "|           37|                10|\n",
            "|           40|                46|\n",
            "|           54|                 0|\n",
            "|           50|                50|\n",
            "|           36|                 3|\n",
            "|           47|                 3|\n",
            "|           71|                 1|\n",
            "|           45|                11|\n",
            "|           62|               225|\n",
            "|           69|                 3|\n",
            "|           34|                 6|\n",
            "|           75|                59|\n",
            "|           41|                 2|\n",
            "|           75|               150|\n",
            "|           72|                 0|\n",
            "|           36|                30|\n",
            "|           39|                69|\n",
            "+-------------+------------------+\n",
            "only showing top 20 rows\n",
            "\n"
          ]
        }
      ]
    },
    {
      "cell_type": "code",
      "metadata": {
        "id": "nI26-DwHhnUe"
      },
      "source": [
        ""
      ],
      "execution_count": null,
      "outputs": []
    }
  ]
}